{
 "cells": [
  {
   "cell_type": "code",
   "execution_count": 1,
   "id": "f515bd72",
   "metadata": {},
   "outputs": [],
   "source": [
    "import numpy as np\n",
    "import pandas as pd\n",
    "import matplotlib.pyplot as plt \n",
    "\n",
    "%matplotlib inline\n",
    "%config Inline.figure_format = 'retina'"
   ]
  },
  {
   "cell_type": "markdown",
   "id": "b24dc8bf",
   "metadata": {},
   "source": [
    "# Data Structure Cheat Sheet"
   ]
  },
  {
   "cell_type": "markdown",
   "id": "a135980a",
   "metadata": {},
   "source": [
    "Two common datatypes are $\\textbf{strings}$, which is text indicated by quotes: \"this is a string%$!\"  \n",
    "\n",
    "or $\\textbf{floats}$, which are numbers with decimal points: 1.231234"
   ]
  },
  {
   "cell_type": "markdown",
   "id": "fb36057f",
   "metadata": {},
   "source": [
    "The way we manipulate these datatypes are through what are called $\\textbf{data structures}$. We manipulate \n",
    "datastructures to act on data, or to visualize that data (e.g. plotting).\n",
    "\n",
    "One of the most basic data structures in Python is a python list. A python list can store data of any\n",
    "type (string or float). For most analysis we will be using what are called $\\textbf{'numpy arrays'}$ (numpy = numerical python) and $\\textbf{'pandas dataframes'}$ (pan_das = 'panel data'). These are another two types of data structure.\n",
    "\n",
    "Numpy arrays can be manipulated by common matrix operations, making them convenient to use. Elements in an array are accessed using 'indexes', which are numerical values associated with positions within the array. These indices follow 'number lines' called 'axes'. E.g:"
   ]
  },
  {
   "attachments": {
    "httpatomoreillycomsourceoreillyimages2172112.png": {
     "image/png": "[encoded data removed]"
    }
   },
   "cell_type": "markdown",
   "id": "e31c4365",
   "metadata": {},
   "source": [
    "![httpatomoreillycomsourceoreillyimages2172112.png](attachment:httpatomoreillycomsourceoreillyimages2172112.png)"
   ]
  },
  {
   "cell_type": "markdown",
   "id": "a6aa431a",
   "metadata": {},
   "source": [
    "A dataframe is essentially a more complex version of a numpy array (which can be acted upon by most numpy manipulations, or 'functions') that has named columns and rows, like an excel spreadsheet. It is a convenient data structure to access information that is linked to specific markers that one needs to keep track of. This could be something like a subject-to-data pair.\n",
    "\n",
    "Listed below are some common manipulations or 'gotchas' that are relevant for these two data structures. The first section covers some basic things utilizing Python lists."
   ]
  },
  {
   "cell_type": "markdown",
   "id": "f46bd4fc",
   "metadata": {},
   "source": [
    "### Python List Stuff"
   ]
  },
  {
   "cell_type": "code",
   "execution_count": 2,
   "id": "5bd02352",
   "metadata": {},
   "outputs": [
    {
     "name": "stdout",
     "output_type": "stream",
     "text": [
      "[1, 2, 3, 4, 5, 'yo', 'bro']\n",
      "no. 2 index is third item:  3\n"
     ]
    }
   ],
   "source": [
    "#General imbedded list stuff and indexing\n",
    "\n",
    "#Basic list\n",
    "alist = [1,2,3,4,5, 'yo', 'bro'] #can store strings, not just numbers\n",
    "print(alist)\n",
    "\n",
    "#accessing a list by an items 'location' or index. Python starts at 0.\n",
    "print('no. 2 index is third item: ', alist[2]) "
   ]
  },
  {
   "cell_type": "markdown",
   "id": "fc25d02a",
   "metadata": {},
   "source": [
    "### Slicing and Accessing Elements\n",
    "\n",
    "Slicing is a way we can pull out specific data points from index to index, using the ':' operator. Some\n",
    "examples are listed below with their outputs."
   ]
  },
  {
   "cell_type": "code",
   "execution_count": 3,
   "id": "4620ac0f",
   "metadata": {},
   "outputs": [
    {
     "name": "stdout",
     "output_type": "stream",
     "text": [
      "Element selected:  [1, 2]\n",
      "slicing is NOT end inclusive:  [[1, 2], [3, 4]]\n",
      "Using Negative Indices:  [[1, 2], [3, 4], [5, 6], [7, 8]]\n",
      "Changing the Slice step:  [[1, 2], [5, 6], [9, 10]]\n",
      "1:  [3, 4]\n",
      "2:  [1, 3, 5, 7, 9]\n",
      "3:  [[1, 2], [3, 4]]\n"
     ]
    }
   ],
   "source": [
    "#Constructing a 2D, 'imbeded list' (list within a list)\n",
    "alist2 = [[1,2],[3,4],[5,6], [7,8],[9,10]]\n",
    "\n",
    "#just like a matrix, you go 'm x n' --> m = row, n = column \n",
    "print('Element selected: ', alist2[0][:]) #select a 'row', then a 'column'\n",
    "\n",
    "#slicing is beginning inclusive\n",
    "print('slicing is NOT end inclusive: ', alist2[0:2])\n",
    "print('Using Negative Indices: ', alist2[:-1])\n",
    "print('Changing the Slice step: ' ,alist2[::2]) #start:end:step; no args will give you the whole thing!\n",
    "\n",
    "\n",
    "## Important to understand that slicing functions like an operator. If no numbers are specified, it'll grab the\n",
    "#whole thing!\n",
    "\n",
    "#Slices out all the rows, then selects the second element of that list\n",
    "print('1: ', alist2[:][1])\n",
    "\n",
    "#To get a specific element from each row, and return as a list (i.e. a column!)\n",
    "alist3 = [value[0] for value in alist2] #using list comprehension\n",
    "print('2: ', alist3) \n",
    "\n",
    "print('3: ', alist2[:3][:2])"
   ]
  },
  {
   "cell_type": "code",
   "execution_count": 4,
   "id": "c664170a",
   "metadata": {},
   "outputs": [
    {
     "name": "stdout",
     "output_type": "stream",
     "text": [
      "[[1, 2], [2, 3], [4, 5]]\n",
      "-----VS-----\n",
      "[[1, 2], [2, 3], 4, 5]\n"
     ]
    }
   ],
   "source": [
    "#To append a vector to a list (or a numpy array) you have to make it the same dimensionality object!\n",
    "list1 = [[1,2],[2,3]]\n",
    "element = [4,5]\n",
    "\n",
    "#you have to make sure you're adding a 'vector' to a list of vectors (not just the values stored in element)\n",
    "\n",
    "list2 = list1 + [element]\n",
    "print(list2)\n",
    "print('-----VS-----')\n",
    "list3 = list1 + element\n",
    "print(list3)"
   ]
  },
  {
   "cell_type": "markdown",
   "id": "1bf4d8bb",
   "metadata": {},
   "source": [
    "### Making Copies of an object\n",
    "\n",
    "You can make a copy of the data in a object (to put it in another one, to seperately manipulate). However, one \n",
    "needs to be careful about what type of copy you are making. \n",
    "\n",
    "In python there are two types: $\\textbf{shallow}$ and $\\textbf{deep}$ \n",
    "\n",
    "A shallow copy will merely just make a new name that references everything the old object did. If you change\n",
    "either of the objects, you will \n",
    "\n",
    "A deep copy will create an entirely $\\textit{new}$ object with the same values. Do this, it'll make \n",
    "your life simpler."
   ]
  },
  {
   "cell_type": "code",
   "execution_count": 5,
   "id": "8fac34ba",
   "metadata": {},
   "outputs": [
    {
     "name": "stdout",
     "output_type": "stream",
     "text": [
      "id list1 140568983095808\n",
      "id list2 140568983095808\n",
      "--------------------\n",
      "id list1 140568983095808\n",
      "id list3 140568984010368\n",
      "--------------------\n",
      "list1 ['unhealthy', ['frenchfry', 'baked']]\n",
      "list3 ['potato', ['frenchfry', 'baked']]\n",
      "id list1 140568983095808\n",
      "id list3 140568984010368\n",
      "--------------------\n"
     ]
    }
   ],
   "source": [
    "#list2 = list1 will just copy over the same object reference to a new name. Both names still call the same\n",
    "#object\n",
    "list1 = ['potato', ['frenchfry', 'baked']]\n",
    "list2 = list1\n",
    "print('id list1', id(list1))\n",
    "print('id list2', id(list2))\n",
    "print('----'*5)\n",
    "\n",
    "#'copy' will create a NEW object, but copies everything 'shallowly' (just first level *references*)\n",
    "#So, although copy does produce a 'new object', anything imbedded is just a reference to that other object!\n",
    "list3 = list1.copy()\n",
    "print('id list1', id(list1))\n",
    "print('id list3', id(list3))\n",
    "print('----'*5)\n",
    "\n",
    "list1[0] = 'unhealthy'\n",
    "print('list1', list1)\n",
    "print('list3', list3)\n",
    "print('id list1', id(list1))\n",
    "print('id list3', id(list3))\n",
    "print('----'*5)"
   ]
  },
  {
   "cell_type": "markdown",
   "id": "9c1c2b18",
   "metadata": {},
   "source": [
    "This can lead to problems....where we think we have two seperate objects, but they still\n",
    "reference the same thing!"
   ]
  },
  {
   "cell_type": "code",
   "execution_count": 6,
   "id": "7813d890",
   "metadata": {},
   "outputs": [
    {
     "name": "stdout",
     "output_type": "stream",
     "text": [
      "list1 ['unhealthy', ['chips', 'baked']]\n",
      "list3 ['potato', ['chips', 'baked']]\n",
      "WHOA both lists changed\n"
     ]
    }
   ],
   "source": [
    "#In this case we change the object that both lists point to, and so both lists change!\n",
    "list1[1][0] = 'chips'\n",
    "print('list1', list1)\n",
    "print('list3', list3)\n",
    "print('WHOA both lists changed')\n",
    "\n",
    "##--UPSHOT--> Use DEEP copies when trying to copy values in arrays!"
   ]
  },
  {
   "cell_type": "markdown",
   "id": "2acf21c2",
   "metadata": {},
   "source": [
    "# Numpy Reference \n",
    "\n",
    "Quickstart guide:\n",
    "https://numpy.org/doc/stable/user/quickstart.html\n",
    "\n",
    "Numpy arrays are SUPER useful. They allow for matrix and element wise operations, similar to Matlab! Below are some nice references for common uses.\n",
    "\n",
    "This way, we can forgo using 'for' loops to operate on our array entries.\n",
    "\n",
    "Some terminology about the data structure:\n",
    "\n",
    "Numpy Axes = 'dimensionality'\n"
   ]
  },
  {
   "cell_type": "markdown",
   "id": "bf2538a4",
   "metadata": {},
   "source": [
    "#### About numpy array vectors and their shape:\n",
    "\n",
    "Numpy arrays, when 1D, are 'column vectors', despite being 'printing' horizontal. While in 2D, the first index gets you rows (axis = 1),\n",
    "and the second index (axis = 0) will get you the column...as is seen visually.\n",
    "\n",
    "However, in a 1D array you only have one dimension! So it's just assumed to be 'vector', which will be treated like a vector.\n",
    "\n",
    "Note that: [[1,2,3,4,5]] $\\neq$ [1,2,3,4,5]\n",
    "\n",
    "The first is a (1,5) matrix. The second is a (5,1) vector!"
   ]
  },
  {
   "cell_type": "markdown",
   "id": "86217216",
   "metadata": {},
   "source": [
    "### Relevant Numpy class 'ndarray' attributes and creation"
   ]
  },
  {
   "cell_type": "code",
   "execution_count": 7,
   "id": "e713a989",
   "metadata": {},
   "outputs": [
    {
     "name": "stdout",
     "output_type": "stream",
     "text": [
      "(2, 3)\n",
      "6\n",
      "2\n",
      "bla:  [4 4 4]\n",
      "bla2: \n",
      "[[0. 0. 0.]\n",
      " [0. 0. 0.]\n",
      " [0. 0. 0.]\n",
      " [0. 0. 0.]]\n",
      "bla3: \n",
      "[0 2 4 6 8]\n",
      "bla4: \n",
      "[0.   0.25 0.5  0.75 1.   1.25 1.5  1.75 2.  ]\n"
     ]
    }
   ],
   "source": [
    "# Array creation\n",
    "\n",
    "# a = np.array(1, 2, 3, 4)  # WRONG. Array creation only takes one argument.\n",
    "\n",
    "x = np.array([[1,2,3], [4,5,6]])\n",
    "\n",
    "#attributes\n",
    "print(x.shape) #gives mxn (rows by columns)\n",
    "print(x.size) #gives the total number of elements\n",
    "print(len(x))\n",
    "\n",
    "#Element wise\n",
    "bla = np.array([4] * 3)\n",
    "print('bla: ', bla)\n",
    "\n",
    "#fill with zeros\n",
    "bla2 = np.zeros((4,3))\n",
    "print('bla2: ')\n",
    "print(bla2)\n",
    "\n",
    "#np.zeros_like??\n",
    "\n",
    "\n",
    "#create a sequence of numbers\n",
    "bla3 = np.arange(0, 10, 2) #start, stop (not included), step \n",
    "print('bla3: ')\n",
    "print(bla3)\n",
    "\n",
    "#Linspace is better when wanting to use floats\n",
    "bla4 = np.linspace(0,2,9) #start, stop, number of points\n",
    "print('bla4: ')\n",
    "print(bla4)\n"
   ]
  },
  {
   "cell_type": "markdown",
   "id": "78807ade",
   "metadata": {},
   "source": [
    "#### When building Numpy arrays, we don't append to them. \n",
    "It is better to create an array as a holder and then add to that array:"
   ]
  },
  {
   "cell_type": "code",
   "execution_count": 8,
   "id": "628d0b34",
   "metadata": {},
   "outputs": [
    {
     "name": "stdout",
     "output_type": "stream",
     "text": [
      "[[0. 0. 1.]\n",
      " [0. 0. 0.]\n",
      " [0. 0. 0.]\n",
      " [0. 0. 0.]]\n",
      "[[1. 1. 1.]\n",
      " [1. 1. 1.]\n",
      " [1. 1. 1.]\n",
      " [1. 1. 1.]]\n",
      "---------------\n",
      "[[0. 0. 1.]\n",
      " [0. 0. 0.]]\n",
      "VS. element selection: \n",
      "1.0\n"
     ]
    }
   ],
   "source": [
    "#Making an empty array and changing the value\n",
    "z = np.zeros((4,3)) \n",
    "z_alt = np.ones((4,3)) #we can also fill an array with ones\n",
    "\n",
    "z[0][2] = 1\n",
    "print(z)\n",
    "print(z_alt)\n",
    "print('---------------')\n",
    "print(z[:][:2])\n",
    "print('VS. element selection: ')\n",
    "print(z[0][2])"
   ]
  },
  {
   "cell_type": "code",
   "execution_count": 9,
   "id": "47237afa",
   "metadata": {},
   "outputs": [
    {
     "name": "stdout",
     "output_type": "stream",
     "text": [
      "[[0. 0.]\n",
      " [0. 0.]\n",
      " [0. 0.]]\n",
      "----------------------------------------\n",
      "[[1. 2.]\n",
      " [0. 0.]\n",
      " [0. 0.]]\n"
     ]
    }
   ],
   "source": [
    "#Keep in mind, the dimensionality of the zeros array you create must match the dimensionality of \n",
    "#what you're trying to place in the holder. \n",
    "\n",
    "#You CANT put a 1D numpy array inside another 1D numpy array! Instead, create a 2D array:\n",
    " \n",
    "bla = np.zeros((3,2))\n",
    "print(bla)\n",
    "print('----'*10)\n",
    "bla[0] = np.array([1,2])\n",
    "print(bla)"
   ]
  },
  {
   "cell_type": "markdown",
   "id": "5b3e18b9",
   "metadata": {},
   "source": [
    "### Reshaping Arrays"
   ]
  },
  {
   "cell_type": "code",
   "execution_count": 10,
   "id": "02ff1ba6",
   "metadata": {},
   "outputs": [
    {
     "name": "stdout",
     "output_type": "stream",
     "text": [
      "[1 2 3 4 5 6]\n",
      "---------------\n",
      "[[1 2 3]\n",
      " [4 5 6]]\n",
      "---------------\n",
      "[[1 4]\n",
      " [2 5]\n",
      " [3 6]]\n",
      "---------------\n"
     ]
    }
   ],
   "source": [
    "a= np.array([[1,2,3], [4,5,6]])\n",
    "\n",
    "#'Squash' the dimensionality and return a 1D array of all entries. Does it row by row. \n",
    "b = a.flatten()\n",
    "print(b)\n",
    "print('---'*5)\n",
    "\n",
    "#We can get back by using '.reshape()' to take a 1D array and 'mold it'\n",
    "b = b.reshape(2,3)\n",
    "print(b)\n",
    "print('---'*5)\n",
    "\n",
    "b = a.T #takes the matrix transponse, switching columns and rows\n",
    "print(b)\n",
    "print('---'*5)\n",
    "\n"
   ]
  },
  {
   "cell_type": "markdown",
   "id": "032e1362",
   "metadata": {},
   "source": [
    "### Slicing\n",
    "\n",
    "In general, similar to python lists, beyond what is added here\n"
   ]
  },
  {
   "cell_type": "code",
   "execution_count": 11,
   "id": "705a44f4",
   "metadata": {},
   "outputs": [
    {
     "name": "stdout",
     "output_type": "stream",
     "text": [
      "[2 5 8]\n",
      "--------------------\n",
      "[1 7]\n",
      "[[1 2 3]\n",
      " [7 8 9]]\n",
      "--------------------\n",
      "[[False False False False]\n",
      " [False  True  True  True]\n",
      " [ True  True  True  True]]\n",
      "--------------------\n",
      "[ 5  6  7  8  9 10 11]\n"
     ]
    }
   ],
   "source": [
    "a= np.array([[1,2,3], [4,5,6], [7,8,9]])\n",
    "\n",
    "#multidimensional arrays have indexing for each axis, seperated by a comma\n",
    "\n",
    "#like matlab. return all rows 'nth' element as a new array\n",
    "print(a[:, 1]) \n",
    "print('----'*5)\n",
    "\n",
    "##--Numpy Special Stuff--##\n",
    "\n",
    "#You can index an array using another array of indices\n",
    "indices_rows = np.array([0,2])\n",
    "indices_columns = np.array([0,0])\n",
    "\n",
    "print(a[indices_rows, indices_columns])\n",
    "\n",
    "\n",
    "#We can use booleans to select data as well!\n",
    "index_boolean = np.array([True, False, True])\n",
    "print(a[index_boolean])\n",
    "print('----'*5)\n",
    "\n",
    "#We can use this to select data that meets a certain condition\n",
    "a = np.arange(12).reshape(3, 4)\n",
    "b = a > 4\n",
    "print(b)\n",
    "print('----'*5)\n",
    "print(a[b])\n"
   ]
  },
  {
   "cell_type": "code",
   "execution_count": 12,
   "id": "539adfed",
   "metadata": {},
   "outputs": [
    {
     "name": "stdout",
     "output_type": "stream",
     "text": [
      "[ 1  2  3  4  6  7  9 10]\n",
      "<class 'numpy.ndarray'>\n"
     ]
    }
   ],
   "source": [
    "# unique will grab all the unique values in the array, and then return a 1D ordered array (small to large)\n",
    "bla = np.array ([1,3,4,6,2,4,6,7,4,2,9,10,9])\n",
    "bla2 = np.unique(bla)\n",
    "print(bla2)\n",
    "print(type(bla2))"
   ]
  },
  {
   "cell_type": "markdown",
   "id": "cfa39dc3",
   "metadata": {},
   "source": [
    "### Iterating\n",
    "\n",
    "Iteration occurs with respect to the first axis (row)"
   ]
  },
  {
   "cell_type": "code",
   "execution_count": 13,
   "id": "c723ce39",
   "metadata": {},
   "outputs": [
    {
     "name": "stdout",
     "output_type": "stream",
     "text": [
      "[1 2 3 4]\n",
      "[5 6 7 8]\n",
      "[ 9 10 11 12]\n"
     ]
    }
   ],
   "source": [
    "for row in a:\n",
    "    print(row + 1)"
   ]
  },
  {
   "cell_type": "markdown",
   "id": "8da87488",
   "metadata": {},
   "source": [
    "## Operations\n"
   ]
  },
  {
   "cell_type": "markdown",
   "id": "ac5c075a",
   "metadata": {},
   "source": [
    "### Arithmetic \n",
    "Is element wise (e.g. each constituent element is matched to the other. If given a scalar, will\n",
    "multiply all the elements"
   ]
  },
  {
   "cell_type": "code",
   "execution_count": 14,
   "id": "562cdea1",
   "metadata": {},
   "outputs": [
    {
     "name": "stdout",
     "output_type": "stream",
     "text": [
      "b:  [ 0 10 20 30]\n",
      "b-c:  [-1  8 17 26]\n",
      "old a: [1 2 3 4]\n",
      "new a:  [ 5 10 15 20]\n"
     ]
    }
   ],
   "source": [
    "a = np.array([1,2,3,4])\n",
    "b = np.arange(0,40, 10)\n",
    "c = b-a\n",
    "print('b: ', b)\n",
    "print('b-c: ', c)\n",
    "\n",
    "#UNLIKE in other matrix langues the '*' operator works element wise:\n",
    "\n",
    "print('old a:', a)\n",
    "a = a * 5  #arithmetic doesn't function 'in-place' --> it will produce output, so save to old namespace \n",
    "print('new a: ', a)"
   ]
  },
  {
   "cell_type": "markdown",
   "id": "be1e8548",
   "metadata": {},
   "source": [
    "#### Basic statistics and functions (methods) acting of an array"
   ]
  },
  {
   "cell_type": "code",
   "execution_count": 15,
   "id": "b19125e2",
   "metadata": {},
   "outputs": [
    {
     "name": "stdout",
     "output_type": "stream",
     "text": [
      "sum:  21\n",
      "min:  1\n",
      "max:  6\n",
      "sum along the rows:  [ 6 15]\n",
      "----------------------------------------\n",
      "2.0\n",
      "-1.0\n",
      "\n"
     ]
    }
   ],
   "source": [
    "a = np.array([[1,2,3],[4,5,6]])\n",
    "\n",
    "print('sum: ', a.sum () )\n",
    "print('min: ', a.min() )\n",
    "print('max: ', a.max())\n",
    "\n",
    "#or you can apply a row (axis = 1) or column (axis = 0)\n",
    "print('sum along the rows: ', a.sum(axis = 1)) #returns array of row sums\n",
    "\n",
    "#as you expect\n",
    "\n",
    "print('----' *10)\n",
    "print(np.sqrt(4))\n",
    "print(np.cos(np.pi))\n",
    "print()\n"
   ]
  },
  {
   "cell_type": "markdown",
   "id": "9d17c5e8",
   "metadata": {},
   "source": [
    "### Linear algebra commands\n",
    "\n",
    "Reference:\n",
    "https://numpy.org/doc/stable/reference/routines.linalg.html"
   ]
  },
  {
   "cell_type": "markdown",
   "id": "d922a006",
   "metadata": {},
   "source": [
    "#### Multiplication\n",
    "\n"
   ]
  },
  {
   "cell_type": "code",
   "execution_count": 16,
   "id": "93aa7671",
   "metadata": {},
   "outputs": [
    {
     "name": "stdout",
     "output_type": "stream",
     "text": [
      "a: (3, 2)\n",
      "b: (2,)\n",
      "c: (1, 2)\n",
      "[1 2 3]\n",
      "[1 2 3]\n"
     ]
    }
   ],
   "source": [
    "a = np.array([[1, 0], #This is a 3x2 vector!\n",
    "              [0, 1],\n",
    "              [1, 1]])\n",
    "b = np.array([1, 2]) #This is actually a 2x1 vector!\n",
    "c = np.array([[1,2]]) #This is a 1x2 matrix\n",
    "\n",
    "print('a:',a.shape)\n",
    "print('b:', b.shape)\n",
    "print('c:', np.shape(c))\n",
    "\n",
    "print(np.matmul(a,b)) #or, you can use the '@' operator\n",
    "\n",
    "#Throws an error! \n",
    "# print(np.matmul(a,c))\n",
    "\n",
    "#To prevent the error\n",
    "print(np.matmul( a,c.flatten() ))\n"
   ]
  },
  {
   "cell_type": "markdown",
   "id": "2d46157e",
   "metadata": {},
   "source": [
    "#### Assorted commands"
   ]
  },
  {
   "cell_type": "code",
   "execution_count": 17,
   "id": "2d5b728b",
   "metadata": {},
   "outputs": [
    {
     "name": "stdout",
     "output_type": "stream",
     "text": [
      "Dot product:\n",
      "[12 30]\n",
      "Norm: \n",
      "9.539392014169456\n",
      "SVD: \n",
      "(array([[-0.3863177 ,  0.92236578],\n",
      "       [-0.92236578, -0.3863177 ]]), array([9.508032  , 0.77286964]), array([[-0.42866713, -0.56630692, -0.7039467 ],\n",
      "       [-0.80596391, -0.11238241,  0.58119908],\n",
      "       [ 0.40824829, -0.81649658,  0.40824829]]))\n"
     ]
    }
   ],
   "source": [
    "v = np.array([2,2,2]) \n",
    "\n",
    "a = np.array([[1,2,3], [4,5,6]]) #will accept a 1D vector\n",
    "\n",
    "print('Dot product:')\n",
    "print(np.dot(a,v))\n",
    "\n",
    "print('Norm: ')\n",
    "print(np.linalg.norm(a))\n",
    "\n",
    "print('SVD: ')\n",
    "print(np.linalg.svd(a)) #output of U, S (1D array of the singular values), V.T\n",
    "\n",
    "# print('Eigen values and vectors: ')\n",
    "# print(np.linalg.eig())\n"
   ]
  },
  {
   "cell_type": "markdown",
   "id": "e0305294",
   "metadata": {},
   "source": [
    "### Deep copies in Numpy arrays \n",
    "Make deep copies!"
   ]
  },
  {
   "cell_type": "code",
   "execution_count": 18,
   "id": "60a16596",
   "metadata": {},
   "outputs": [
    {
     "name": "stdout",
     "output_type": "stream",
     "text": [
      "y [ 1 10  3  4]\n",
      "x [ 1 10  3  4]\n",
      "--------------------\n",
      "WHOA! Look, x changed as well! And the memory location is the same:\n",
      "x_id 140568984174384\n",
      "y_id 140568984174384\n"
     ]
    }
   ],
   "source": [
    "#Deep copies; if we want to copy an object, and we don't want to merely just copy a reference to the old object in\n",
    "#memory, we have to make what is called a 'deep copy'. This will copy all the old values of the old object,\n",
    "#into a new object!\n",
    "\n",
    "x = np.array([1,2,3,4])\n",
    "y = x\n",
    "y[1] = 10\n",
    "print('y', y)\n",
    "print('x', x)\n",
    "print('----'*5)\n",
    "print('WHOA! Look, x changed as well! And the memory location is the same:')\n",
    "\n",
    "print('x_id', id(x))\n",
    "print('y_id', id(y))\n",
    "\n",
    "#gotta make deep copies! use np.copy() to do this!"
   ]
  },
  {
   "cell_type": "markdown",
   "id": "ad07cff7",
   "metadata": {},
   "source": [
    "# Dataframes Reference\n",
    "\n",
    "Pandas has two major datatypes: (1) Series & (2) Dataframe.\n",
    "\n",
    "A 'Series' is a 1D array, with indices that can be different datatypes, but typically numeric, similar to a numpy array or a python list. \n",
    "\n",
    "A 'Dataframe' is a 2D array, with indices that can also be different datatypes, and the columns are 'labels' that\n",
    "can be used to manipulate or access the data held within!\n",
    "\n",
    "The PRIMARY difference b/w a dataframe and a numpy array, is that a Dataframe can use multiple data types.\n",
    "\n",
    "$\\textrm{A DATAFRAME has a unique datatype for a column, a NUMPY ARRAY has a unique type for each array}$\n",
    "\n",
    "#### Reading in files can be from .csv or excel sheets!\n",
    "\n",
    "In that case, use df = pd.read_csv('title of file'). This will read in the .csv file into your \n",
    "jupyter notebook, providing the file is in the same directory as your jupyter notebook file!"
   ]
  },
  {
   "cell_type": "code",
   "execution_count": 19,
   "id": "d52851ac",
   "metadata": {},
   "outputs": [
    {
     "name": "stdout",
     "output_type": "stream",
     "text": [
      "a    0.863315\n",
      "b    0.139051\n",
      "c    2.033403\n",
      "d   -0.772248\n",
      "e   -2.262976\n",
      "dtype: float64\n",
      "--------\n",
      "series from dictionary: \n",
      "b    1\n",
      "a    0\n",
      "c    2\n",
      "dtype: int64\n"
     ]
    }
   ],
   "source": [
    "#This is a \"series\". Can be constructed using a np.array\n",
    "s = pd.Series(np.random.randn(5), index=[\"a\", \"b\", \"c\", \"d\", \"e\"])\n",
    "print(s)\n",
    "print('--------')\n",
    "\n",
    "#You can also construct a series from a dictionary, using the keys as the indices\n",
    "d = {\"b\": 1, \"a\": 0, \"c\": 2}\n",
    "s_from_d = pd.Series(d)\n",
    "print('series from dictionary: ')\n",
    "print(s_from_d)"
   ]
  },
  {
   "cell_type": "markdown",
   "id": "f7382d3e",
   "metadata": {},
   "source": [
    "### Constructing Dataframes and Renaming Columns/Indices"
   ]
  },
  {
   "cell_type": "code",
   "execution_count": 72,
   "id": "ecebaf4b",
   "metadata": {},
   "outputs": [
    {
     "name": "stdout",
     "output_type": "stream",
     "text": [
      "   scoop  boop\n",
      "a      1     4\n",
      "b      2     5\n",
      "c      3     6\n",
      "   scoop  doop\n",
      "a      1     4\n",
      "b      2     5\n",
      "c      3     6\n",
      "   scoop  GAHH\n",
      "a      1     4\n",
      "b      2     5\n",
      "c      3     6\n",
      "--------------------\n",
      "Renaming indices: \n"
     ]
    },
    {
     "data": {
      "text/html": [
       "<div>\n",
       "<style scoped>\n",
       "    .dataframe tbody tr th:only-of-type {\n",
       "        vertical-align: middle;\n",
       "    }\n",
       "\n",
       "    .dataframe tbody tr th {\n",
       "        vertical-align: top;\n",
       "    }\n",
       "\n",
       "    .dataframe thead th {\n",
       "        text-align: right;\n",
       "    }\n",
       "</style>\n",
       "<table border=\"1\" class=\"dataframe\">\n",
       "  <thead>\n",
       "    <tr style=\"text-align: right;\">\n",
       "      <th></th>\n",
       "      <th>scoop</th>\n",
       "      <th>GAHH</th>\n",
       "    </tr>\n",
       "  </thead>\n",
       "  <tbody>\n",
       "    <tr>\n",
       "      <th>1</th>\n",
       "      <td>1</td>\n",
       "      <td>4</td>\n",
       "    </tr>\n",
       "    <tr>\n",
       "      <th>2</th>\n",
       "      <td>2</td>\n",
       "      <td>5</td>\n",
       "    </tr>\n",
       "    <tr>\n",
       "      <th>3</th>\n",
       "      <td>3</td>\n",
       "      <td>6</td>\n",
       "    </tr>\n",
       "  </tbody>\n",
       "</table>\n",
       "</div>"
      ],
      "text/plain": [
       "   scoop  GAHH\n",
       "1      1     4\n",
       "2      2     5\n",
       "3      3     6"
      ]
     },
     "metadata": {},
     "output_type": "display_data"
    },
    {
     "name": "stdout",
     "output_type": "stream",
     "text": [
      "--------------------\n"
     ]
    },
    {
     "data": {
      "text/html": [
       "<div>\n",
       "<style scoped>\n",
       "    .dataframe tbody tr th:only-of-type {\n",
       "        vertical-align: middle;\n",
       "    }\n",
       "\n",
       "    .dataframe tbody tr th {\n",
       "        vertical-align: top;\n",
       "    }\n",
       "\n",
       "    .dataframe thead th {\n",
       "        text-align: right;\n",
       "    }\n",
       "</style>\n",
       "<table border=\"1\" class=\"dataframe\">\n",
       "  <thead>\n",
       "    <tr style=\"text-align: right;\">\n",
       "      <th></th>\n",
       "      <th>scoop</th>\n",
       "      <th>GAHH</th>\n",
       "    </tr>\n",
       "  </thead>\n",
       "  <tbody>\n",
       "    <tr>\n",
       "      <th>0</th>\n",
       "      <td>1</td>\n",
       "      <td>4</td>\n",
       "    </tr>\n",
       "    <tr>\n",
       "      <th>1</th>\n",
       "      <td>2</td>\n",
       "      <td>5</td>\n",
       "    </tr>\n",
       "    <tr>\n",
       "      <th>2</th>\n",
       "      <td>3</td>\n",
       "      <td>6</td>\n",
       "    </tr>\n",
       "  </tbody>\n",
       "</table>\n",
       "</div>"
      ],
      "text/plain": [
       "   scoop  GAHH\n",
       "0      1     4\n",
       "1      2     5\n",
       "2      3     6"
      ]
     },
     "metadata": {},
     "output_type": "display_data"
    },
    {
     "name": "stdout",
     "output_type": "stream",
     "text": [
      "shape:  (3,)\n",
      "--------------------\n",
      "df2: \n",
      "a    1\n",
      "b    2\n",
      "c    3\n",
      "Name: scoop, dtype: int64\n",
      "^ lists the data type of the values held in the series/DF\n",
      "Data type of df2 object:  <class 'pandas.core.series.Series'>\n",
      "   scoop  GAHH\n",
      "a      1     4\n",
      "b      2     5\n",
      "c      3     6\n"
     ]
    }
   ],
   "source": [
    "#Contructing an empty Dataframe object, to then append values into later\n",
    "empty = pd.DataFrame \n",
    "\n",
    "#You can construct a dataframe from a dictionary, and set indices\n",
    "d = {'scoop': [1,2,3], 'boop': [4,5,6]}\n",
    "df = pd.DataFrame(data = d, index = [\"a\", \"b\", \"c\"])\n",
    "print(df)\n",
    "\n",
    "#to set all the column names\n",
    "df.columns = ['scoop', 'doop']\n",
    "print(df)\n",
    "\n",
    "#Rename is not 'in-place', similar to 'np.append(array, [value])' ; you'll have to save results\n",
    "df = df.rename(columns = {'doop': 'GAHH'}) \n",
    "print(df)\n",
    "print('----' *5)\n",
    "\n",
    "#Changing the indices names, pass a list on indices of same length\n",
    "df = df.set_axis(['1','2','3'], axis = 'index')\n",
    "print('Renaming indices: ')\n",
    "display(df)\n",
    "print('----' *5)\n",
    "\n",
    "#Will completely reset the index numbering; typically will take old index and make a column. Here we 'drop' it \n",
    "df = df.reset_index(drop = True)\n",
    "display(df)\n",
    "\n",
    "#return to previous\n",
    "df = df.set_axis(['a','b','c'], axis = 'index')\n",
    "\n",
    "#If you select a column using a label, a SERIES (1D) will be returned, with the same indexing as before\n",
    "df2 = df['scoop']\n",
    "print('shape: ', df2.shape)\n",
    "\n",
    "print('----'*5)\n",
    "print('df2: ')\n",
    "print(df2)\n",
    "print('^ lists the data type of the values held in the series/DF')\n",
    "print('Data type of df2 object: ', type(df2) )\n",
    "\n",
    "#you can select mutiple columns:\n",
    "df3 = df[['scoop', 'GAHH']]\n",
    "print(df3)\n",
    "\n",
    "\n"
   ]
  },
  {
   "cell_type": "markdown",
   "id": "160100b9",
   "metadata": {},
   "source": [
    "#### You can also construct a dataframe from a numpy array, and assign columns and indices names\n",
    "\n",
    "You have an 'empty' dataframe, that you then assign values into:\n"
   ]
  },
  {
   "cell_type": "code",
   "execution_count": 52,
   "id": "9438b5d5",
   "metadata": {},
   "outputs": [
    {
     "data": {
      "text/html": [
       "<div>\n",
       "<style scoped>\n",
       "    .dataframe tbody tr th:only-of-type {\n",
       "        vertical-align: middle;\n",
       "    }\n",
       "\n",
       "    .dataframe tbody tr th {\n",
       "        vertical-align: top;\n",
       "    }\n",
       "\n",
       "    .dataframe thead th {\n",
       "        text-align: right;\n",
       "    }\n",
       "</style>\n",
       "<table border=\"1\" class=\"dataframe\">\n",
       "  <thead>\n",
       "    <tr style=\"text-align: right;\">\n",
       "      <th></th>\n",
       "      <th>rent</th>\n",
       "      <th>grocery</th>\n",
       "      <th>clothing</th>\n",
       "      <th>fun</th>\n",
       "      <th>monthly_total</th>\n",
       "    </tr>\n",
       "  </thead>\n",
       "  <tbody>\n",
       "    <tr>\n",
       "      <th>0</th>\n",
       "      <td>1300</td>\n",
       "      <td>300</td>\n",
       "      <td>100</td>\n",
       "      <td>200</td>\n",
       "      <td>1900</td>\n",
       "    </tr>\n",
       "    <tr>\n",
       "      <th>1</th>\n",
       "      <td>1300</td>\n",
       "      <td>300</td>\n",
       "      <td>100</td>\n",
       "      <td>200</td>\n",
       "      <td>1900</td>\n",
       "    </tr>\n",
       "    <tr>\n",
       "      <th>2</th>\n",
       "      <td>1300</td>\n",
       "      <td>300</td>\n",
       "      <td>100</td>\n",
       "      <td>200</td>\n",
       "      <td>1900</td>\n",
       "    </tr>\n",
       "    <tr>\n",
       "      <th>3</th>\n",
       "      <td>1300</td>\n",
       "      <td>300</td>\n",
       "      <td>100</td>\n",
       "      <td>200</td>\n",
       "      <td>1900</td>\n",
       "    </tr>\n",
       "    <tr>\n",
       "      <th>4</th>\n",
       "      <td>1300</td>\n",
       "      <td>300</td>\n",
       "      <td>100</td>\n",
       "      <td>200</td>\n",
       "      <td>1900</td>\n",
       "    </tr>\n",
       "  </tbody>\n",
       "</table>\n",
       "</div>"
      ],
      "text/plain": [
       "   rent  grocery  clothing  fun  monthly_total\n",
       "0  1300      300       100  200           1900\n",
       "1  1300      300       100  200           1900\n",
       "2  1300      300       100  200           1900\n",
       "3  1300      300       100  200           1900\n",
       "4  1300      300       100  200           1900"
      ]
     },
     "metadata": {},
     "output_type": "display_data"
    },
    {
     "name": "stdout",
     "output_type": "stream",
     "text": [
      "Shapes of the series objects: \n",
      "(12,)\n",
      "(12,)\n",
      "Head of the savings Series: \n"
     ]
    },
    {
     "data": {
      "text/plain": [
       "0   -1100.0\n",
       "1   -1100.0\n",
       "2   -1100.0\n",
       "dtype: float64"
      ]
     },
     "metadata": {},
     "output_type": "display_data"
    },
    {
     "name": "stdout",
     "output_type": "stream",
     "text": [
      "[[1300  300  100  200 1900]\n",
      " [1300  300  100  200 1900]\n",
      " [1300  300  100  200 1900]\n",
      " [1300  300  100  200 1900]\n",
      " [1300  300  100  200 1900]]\n"
     ]
    }
   ],
   "source": [
    "#Make a budget dataframe\n",
    "starter = np.ones((12,4))\n",
    "money_stuff = ['rent', 'grocery', 'clothing', 'fun']\n",
    "expenses = pd.DataFrame(starter, columns = money_stuff, index = range(0,12))\n",
    "\n",
    "#assign values to each of the columns\n",
    "expenses['rent'] = 1300\n",
    "expenses['grocery'] = 300\n",
    "expenses['clothing'] = 100\n",
    "expenses['fun'] = 200\n",
    "\n",
    "expenses['monthly_total'] = expenses.sum(axis=1)\n",
    "display(expenses.head(5))\n",
    "\n",
    "\n",
    "#make an income array\n",
    "income = np.ones((12,1)) *3000\n",
    "\n",
    "\n",
    "#A column vector made in numpy will turn into a '2D' dataframe (shape = n, 1) vs (shape = (n, ))\n",
    "#in order to subtract a column from a column, you need to make sure that they are the same shape:\n",
    "\n",
    "income_pd = pd.DataFrame(income)\n",
    "income_pd = income_pd[0] #Changes the 2D DF into a 1D series using '[]' operator\n",
    "\n",
    "#They are now the same shape!\n",
    "print('Shapes of the series objects: ')\n",
    "print(income_pd.shape)\n",
    "print(expenses['monthly_total'].shape)\n",
    "\n",
    "#make sure to match the indexing of what you subtract, because pandas will subtract element-wise by index!\n",
    "savings = expenses['monthly_total'] - income_pd\n",
    "print('Head of the savings Series: ')\n",
    "display(savings.head(3))\n",
    "\n",
    "#You can also take a dataframe, and turn it back into a numpy array! :\n",
    "expenses_np = expenses.to_numpy()\n",
    "print(expenses_np[:5])\n"
   ]
  },
  {
   "cell_type": "markdown",
   "id": "41e5d38f",
   "metadata": {},
   "source": [
    "### Adding new columns to a DF\n",
    "\n",
    "You can add a new column to a DF, by creating a Series, and then listing a new column as that series:"
   ]
  },
  {
   "cell_type": "code",
   "execution_count": 62,
   "id": "174b37bd",
   "metadata": {},
   "outputs": [
    {
     "data": {
      "text/html": [
       "<div>\n",
       "<style scoped>\n",
       "    .dataframe tbody tr th:only-of-type {\n",
       "        vertical-align: middle;\n",
       "    }\n",
       "\n",
       "    .dataframe tbody tr th {\n",
       "        vertical-align: top;\n",
       "    }\n",
       "\n",
       "    .dataframe thead th {\n",
       "        text-align: right;\n",
       "    }\n",
       "</style>\n",
       "<table border=\"1\" class=\"dataframe\">\n",
       "  <thead>\n",
       "    <tr style=\"text-align: right;\">\n",
       "      <th></th>\n",
       "      <th>scoop</th>\n",
       "      <th>GAHH</th>\n",
       "      <th>doop</th>\n",
       "    </tr>\n",
       "  </thead>\n",
       "  <tbody>\n",
       "    <tr>\n",
       "      <th>a</th>\n",
       "      <td>1</td>\n",
       "      <td>4</td>\n",
       "      <td>7</td>\n",
       "    </tr>\n",
       "    <tr>\n",
       "      <th>b</th>\n",
       "      <td>2</td>\n",
       "      <td>5</td>\n",
       "      <td>9</td>\n",
       "    </tr>\n",
       "    <tr>\n",
       "      <th>c</th>\n",
       "      <td>3</td>\n",
       "      <td>6</td>\n",
       "      <td>8</td>\n",
       "    </tr>\n",
       "  </tbody>\n",
       "</table>\n",
       "</div>"
      ],
      "text/plain": [
       "   scoop  GAHH  doop\n",
       "a      1     4     7\n",
       "b      2     5     9\n",
       "c      3     6     8"
      ]
     },
     "metadata": {},
     "output_type": "display_data"
    },
    {
     "data": {
      "text/html": [
       "<div>\n",
       "<style scoped>\n",
       "    .dataframe tbody tr th:only-of-type {\n",
       "        vertical-align: middle;\n",
       "    }\n",
       "\n",
       "    .dataframe tbody tr th {\n",
       "        vertical-align: top;\n",
       "    }\n",
       "\n",
       "    .dataframe thead th {\n",
       "        text-align: right;\n",
       "    }\n",
       "</style>\n",
       "<table border=\"1\" class=\"dataframe\">\n",
       "  <thead>\n",
       "    <tr style=\"text-align: right;\">\n",
       "      <th></th>\n",
       "      <th>scoop</th>\n",
       "      <th>GAHH</th>\n",
       "      <th>doop</th>\n",
       "    </tr>\n",
       "  </thead>\n",
       "  <tbody>\n",
       "    <tr>\n",
       "      <th>a</th>\n",
       "      <td>1</td>\n",
       "      <td>4</td>\n",
       "      <td>7</td>\n",
       "    </tr>\n",
       "    <tr>\n",
       "      <th>b</th>\n",
       "      <td>2</td>\n",
       "      <td>5</td>\n",
       "      <td>8</td>\n",
       "    </tr>\n",
       "    <tr>\n",
       "      <th>c</th>\n",
       "      <td>3</td>\n",
       "      <td>6</td>\n",
       "      <td>9</td>\n",
       "    </tr>\n",
       "  </tbody>\n",
       "</table>\n",
       "</div>"
      ],
      "text/plain": [
       "   scoop  GAHH  doop\n",
       "a      1     4     7\n",
       "b      2     5     8\n",
       "c      3     6     9"
      ]
     },
     "metadata": {},
     "output_type": "display_data"
    }
   ],
   "source": [
    "new_col = pd.Series([7,8,9], index = ['a','c', 'b']) #Can set the indices to change the ordering\n",
    "df['doop'] = new_col\n",
    "display(df)\n",
    "\n",
    "#or alternatively, use a numpy array\n",
    "new_col = np.array([7,8,9])\n",
    "df['doop'] = new_col\n",
    "display(df)\n",
    "\n",
    "\n",
    "#Note that if the index isn't the same, the value gets added as a 'NaN'"
   ]
  },
  {
   "cell_type": "markdown",
   "id": "22025393",
   "metadata": {},
   "source": [
    "### Commands for Viewing Dataframes"
   ]
  },
  {
   "cell_type": "code",
   "execution_count": 70,
   "id": "845acd68",
   "metadata": {},
   "outputs": [
    {
     "data": {
      "text/html": [
       "<div>\n",
       "<style scoped>\n",
       "    .dataframe tbody tr th:only-of-type {\n",
       "        vertical-align: middle;\n",
       "    }\n",
       "\n",
       "    .dataframe tbody tr th {\n",
       "        vertical-align: top;\n",
       "    }\n",
       "\n",
       "    .dataframe thead th {\n",
       "        text-align: right;\n",
       "    }\n",
       "</style>\n",
       "<table border=\"1\" class=\"dataframe\">\n",
       "  <thead>\n",
       "    <tr style=\"text-align: right;\">\n",
       "      <th></th>\n",
       "      <th>scoop</th>\n",
       "      <th>GAHH</th>\n",
       "    </tr>\n",
       "  </thead>\n",
       "  <tbody>\n",
       "    <tr>\n",
       "      <th>a</th>\n",
       "      <td>1</td>\n",
       "      <td>4</td>\n",
       "    </tr>\n",
       "    <tr>\n",
       "      <th>b</th>\n",
       "      <td>2</td>\n",
       "      <td>5</td>\n",
       "    </tr>\n",
       "    <tr>\n",
       "      <th>c</th>\n",
       "      <td>3</td>\n",
       "      <td>6</td>\n",
       "    </tr>\n",
       "  </tbody>\n",
       "</table>\n",
       "</div>"
      ],
      "text/plain": [
       "   scoop  GAHH\n",
       "a      1     4\n",
       "b      2     5\n",
       "c      3     6"
      ]
     },
     "metadata": {},
     "output_type": "display_data"
    },
    {
     "data": {
      "text/html": [
       "<div>\n",
       "<style scoped>\n",
       "    .dataframe tbody tr th:only-of-type {\n",
       "        vertical-align: middle;\n",
       "    }\n",
       "\n",
       "    .dataframe tbody tr th {\n",
       "        vertical-align: top;\n",
       "    }\n",
       "\n",
       "    .dataframe thead th {\n",
       "        text-align: right;\n",
       "    }\n",
       "</style>\n",
       "<table border=\"1\" class=\"dataframe\">\n",
       "  <thead>\n",
       "    <tr style=\"text-align: right;\">\n",
       "      <th></th>\n",
       "      <th>scoop</th>\n",
       "      <th>GAHH</th>\n",
       "    </tr>\n",
       "  </thead>\n",
       "  <tbody>\n",
       "    <tr>\n",
       "      <th>a</th>\n",
       "      <td>1</td>\n",
       "      <td>4</td>\n",
       "    </tr>\n",
       "    <tr>\n",
       "      <th>b</th>\n",
       "      <td>2</td>\n",
       "      <td>5</td>\n",
       "    </tr>\n",
       "  </tbody>\n",
       "</table>\n",
       "</div>"
      ],
      "text/plain": [
       "   scoop  GAHH\n",
       "a      1     4\n",
       "b      2     5"
      ]
     },
     "metadata": {},
     "output_type": "display_data"
    },
    {
     "data": {
      "text/html": [
       "<div>\n",
       "<style scoped>\n",
       "    .dataframe tbody tr th:only-of-type {\n",
       "        vertical-align: middle;\n",
       "    }\n",
       "\n",
       "    .dataframe tbody tr th {\n",
       "        vertical-align: top;\n",
       "    }\n",
       "\n",
       "    .dataframe thead th {\n",
       "        text-align: right;\n",
       "    }\n",
       "</style>\n",
       "<table border=\"1\" class=\"dataframe\">\n",
       "  <thead>\n",
       "    <tr style=\"text-align: right;\">\n",
       "      <th></th>\n",
       "      <th>scoop</th>\n",
       "      <th>GAHH</th>\n",
       "    </tr>\n",
       "  </thead>\n",
       "  <tbody>\n",
       "    <tr>\n",
       "      <th>c</th>\n",
       "      <td>3</td>\n",
       "      <td>6</td>\n",
       "    </tr>\n",
       "  </tbody>\n",
       "</table>\n",
       "</div>"
      ],
      "text/plain": [
       "   scoop  GAHH\n",
       "c      3     6"
      ]
     },
     "metadata": {},
     "output_type": "display_data"
    },
    {
     "name": "stdout",
     "output_type": "stream",
     "text": [
      "Index(['a', 'b', 'c'], dtype='object')\n",
      "Index(['scoop', 'GAHH'], dtype='object')\n",
      "---------------\n",
      "scoop\n",
      "GAHH\n",
      "---------------\n"
     ]
    },
    {
     "data": {
      "text/html": [
       "<div>\n",
       "<style scoped>\n",
       "    .dataframe tbody tr th:only-of-type {\n",
       "        vertical-align: middle;\n",
       "    }\n",
       "\n",
       "    .dataframe tbody tr th {\n",
       "        vertical-align: top;\n",
       "    }\n",
       "\n",
       "    .dataframe thead th {\n",
       "        text-align: right;\n",
       "    }\n",
       "</style>\n",
       "<table border=\"1\" class=\"dataframe\">\n",
       "  <thead>\n",
       "    <tr style=\"text-align: right;\">\n",
       "      <th></th>\n",
       "      <th>scoop</th>\n",
       "      <th>GAHH</th>\n",
       "    </tr>\n",
       "  </thead>\n",
       "  <tbody>\n",
       "    <tr>\n",
       "      <th>count</th>\n",
       "      <td>3.0</td>\n",
       "      <td>3.0</td>\n",
       "    </tr>\n",
       "    <tr>\n",
       "      <th>mean</th>\n",
       "      <td>2.0</td>\n",
       "      <td>5.0</td>\n",
       "    </tr>\n",
       "    <tr>\n",
       "      <th>std</th>\n",
       "      <td>1.0</td>\n",
       "      <td>1.0</td>\n",
       "    </tr>\n",
       "    <tr>\n",
       "      <th>min</th>\n",
       "      <td>1.0</td>\n",
       "      <td>4.0</td>\n",
       "    </tr>\n",
       "    <tr>\n",
       "      <th>25%</th>\n",
       "      <td>1.5</td>\n",
       "      <td>4.5</td>\n",
       "    </tr>\n",
       "    <tr>\n",
       "      <th>50%</th>\n",
       "      <td>2.0</td>\n",
       "      <td>5.0</td>\n",
       "    </tr>\n",
       "    <tr>\n",
       "      <th>75%</th>\n",
       "      <td>2.5</td>\n",
       "      <td>5.5</td>\n",
       "    </tr>\n",
       "    <tr>\n",
       "      <th>max</th>\n",
       "      <td>3.0</td>\n",
       "      <td>6.0</td>\n",
       "    </tr>\n",
       "  </tbody>\n",
       "</table>\n",
       "</div>"
      ],
      "text/plain": [
       "       scoop  GAHH\n",
       "count    3.0   3.0\n",
       "mean     2.0   5.0\n",
       "std      1.0   1.0\n",
       "min      1.0   4.0\n",
       "25%      1.5   4.5\n",
       "50%      2.0   5.0\n",
       "75%      2.5   5.5\n",
       "max      3.0   6.0"
      ]
     },
     "metadata": {},
     "output_type": "display_data"
    }
   ],
   "source": [
    "pd.set_option('display.max_columns', None) #lets us view all of the columns at once \n",
    "\n",
    "\n",
    "display(df) #will show the dataframe in tabular format\n",
    "display(df.head(2)) #will let us see just the top of the dataframe\n",
    "display(df.tail(1)) #will let us see the 'tail' of the dataframe\n",
    "\n",
    "#lets us view all of the columns at once  (otherwise if df is long it'll use '...')\n",
    "pd.set_option('display.max_columns', None) \n",
    "\n",
    "#just show the index/columns; or to access them\n",
    "print(df.index)\n",
    "print(df.columns)\n",
    "print('---'*5)\n",
    "for column in df.columns:\n",
    "    print(column)\n",
    "print('---'*5)\n",
    "\n",
    "#Get quick statistic summaries of your data!\n",
    "df_describe = df.describe()\n",
    "display(df_describe)\n"
   ]
  },
  {
   "cell_type": "markdown",
   "id": "0198ae87",
   "metadata": {},
   "source": [
    "### Accessing Elements of a Dataframe (using various indexing methods)\n",
    "\n",
    "$\\textbf{DON'T}$ use \"object[index1][index2]\" to access elements, as in numpy arrays. This is actually two operations, vs using '.loc' as below. This ('chained indexing') is slower, for one, but also produces strange results. Basically, the second $\\textrm{\"[ ]\"}$ is not certain to return a 'copy' or a 'view'. \n",
    "\n",
    "Upshot, don't do this!\n",
    "\n",
    "Reference: https://pandas.pydata.org/pandas-docs/stable/user_guide/indexing.html#returning-a-view-versus-a-copy"
   ]
  },
  {
   "cell_type": "code",
   "execution_count": 61,
   "id": "e7a23905",
   "metadata": {},
   "outputs": [
    {
     "data": {
      "text/html": [
       "<div>\n",
       "<style scoped>\n",
       "    .dataframe tbody tr th:only-of-type {\n",
       "        vertical-align: middle;\n",
       "    }\n",
       "\n",
       "    .dataframe tbody tr th {\n",
       "        vertical-align: top;\n",
       "    }\n",
       "\n",
       "    .dataframe thead th {\n",
       "        text-align: right;\n",
       "    }\n",
       "</style>\n",
       "<table border=\"1\" class=\"dataframe\">\n",
       "  <thead>\n",
       "    <tr style=\"text-align: right;\">\n",
       "      <th></th>\n",
       "      <th>scoop</th>\n",
       "      <th>GAHH</th>\n",
       "      <th>doop</th>\n",
       "    </tr>\n",
       "  </thead>\n",
       "  <tbody>\n",
       "    <tr>\n",
       "      <th>a</th>\n",
       "      <td>1</td>\n",
       "      <td>4</td>\n",
       "      <td>7</td>\n",
       "    </tr>\n",
       "    <tr>\n",
       "      <th>b</th>\n",
       "      <td>2</td>\n",
       "      <td>5</td>\n",
       "      <td>9</td>\n",
       "    </tr>\n",
       "    <tr>\n",
       "      <th>c</th>\n",
       "      <td>3</td>\n",
       "      <td>6</td>\n",
       "      <td>8</td>\n",
       "    </tr>\n",
       "  </tbody>\n",
       "</table>\n",
       "</div>"
      ],
      "text/plain": [
       "   scoop  GAHH  doop\n",
       "a      1     4     7\n",
       "b      2     5     9\n",
       "c      3     6     8"
      ]
     },
     "metadata": {},
     "output_type": "display_data"
    },
    {
     "data": {
      "text/plain": [
       "<pandas.core.indexing._LocIndexer at 0x7fd8c47a0040>"
      ]
     },
     "execution_count": 61,
     "metadata": {},
     "output_type": "execute_result"
    }
   ],
   "source": [
    "df.iloc[0][1] #the .iloc method lets you use numerical indexing to select data values\n",
    "\n",
    "df.loc['column', 'row']\n",
    "\n",
    "\n",
    "display(df)"
   ]
  },
  {
   "cell_type": "markdown",
   "id": "11f6adac",
   "metadata": {},
   "source": [
    "#### Sorting/Ordering a Dataframe"
   ]
  },
  {
   "cell_type": "code",
   "execution_count": 78,
   "id": "d8be9b43",
   "metadata": {},
   "outputs": [
    {
     "name": "stdout",
     "output_type": "stream",
     "text": [
      "Look at the indexes, they are sorted strings in reverse alphabetical! :\n"
     ]
    },
    {
     "data": {
      "text/html": [
       "<div>\n",
       "<style scoped>\n",
       "    .dataframe tbody tr th:only-of-type {\n",
       "        vertical-align: middle;\n",
       "    }\n",
       "\n",
       "    .dataframe tbody tr th {\n",
       "        vertical-align: top;\n",
       "    }\n",
       "\n",
       "    .dataframe thead th {\n",
       "        text-align: right;\n",
       "    }\n",
       "</style>\n",
       "<table border=\"1\" class=\"dataframe\">\n",
       "  <thead>\n",
       "    <tr style=\"text-align: right;\">\n",
       "      <th></th>\n",
       "      <th>scoop</th>\n",
       "      <th>GAHH</th>\n",
       "    </tr>\n",
       "  </thead>\n",
       "  <tbody>\n",
       "    <tr>\n",
       "      <th>c</th>\n",
       "      <td>3</td>\n",
       "      <td>6</td>\n",
       "    </tr>\n",
       "    <tr>\n",
       "      <th>b</th>\n",
       "      <td>2</td>\n",
       "      <td>5</td>\n",
       "    </tr>\n",
       "    <tr>\n",
       "      <th>a</th>\n",
       "      <td>1</td>\n",
       "      <td>4</td>\n",
       "    </tr>\n",
       "  </tbody>\n",
       "</table>\n",
       "</div>"
      ],
      "text/plain": [
       "   scoop  GAHH\n",
       "c      3     6\n",
       "b      2     5\n",
       "a      1     4"
      ]
     },
     "metadata": {},
     "output_type": "display_data"
    },
    {
     "data": {
      "text/html": [
       "<div>\n",
       "<style scoped>\n",
       "    .dataframe tbody tr th:only-of-type {\n",
       "        vertical-align: middle;\n",
       "    }\n",
       "\n",
       "    .dataframe tbody tr th {\n",
       "        vertical-align: top;\n",
       "    }\n",
       "\n",
       "    .dataframe thead th {\n",
       "        text-align: right;\n",
       "    }\n",
       "</style>\n",
       "<table border=\"1\" class=\"dataframe\">\n",
       "  <thead>\n",
       "    <tr style=\"text-align: right;\">\n",
       "      <th></th>\n",
       "      <th>scoop</th>\n",
       "      <th>GAHH</th>\n",
       "    </tr>\n",
       "  </thead>\n",
       "  <tbody>\n",
       "    <tr>\n",
       "      <th>std</th>\n",
       "      <td>1.0</td>\n",
       "      <td>1.0</td>\n",
       "    </tr>\n",
       "    <tr>\n",
       "      <th>min</th>\n",
       "      <td>1.0</td>\n",
       "      <td>4.0</td>\n",
       "    </tr>\n",
       "    <tr>\n",
       "      <th>25%</th>\n",
       "      <td>1.5</td>\n",
       "      <td>4.5</td>\n",
       "    </tr>\n",
       "    <tr>\n",
       "      <th>mean</th>\n",
       "      <td>2.0</td>\n",
       "      <td>5.0</td>\n",
       "    </tr>\n",
       "    <tr>\n",
       "      <th>50%</th>\n",
       "      <td>2.0</td>\n",
       "      <td>5.0</td>\n",
       "    </tr>\n",
       "    <tr>\n",
       "      <th>75%</th>\n",
       "      <td>2.5</td>\n",
       "      <td>5.5</td>\n",
       "    </tr>\n",
       "    <tr>\n",
       "      <th>count</th>\n",
       "      <td>3.0</td>\n",
       "      <td>3.0</td>\n",
       "    </tr>\n",
       "    <tr>\n",
       "      <th>max</th>\n",
       "      <td>3.0</td>\n",
       "      <td>6.0</td>\n",
       "    </tr>\n",
       "  </tbody>\n",
       "</table>\n",
       "</div>"
      ],
      "text/plain": [
       "       scoop  GAHH\n",
       "std      1.0   1.0\n",
       "min      1.0   4.0\n",
       "25%      1.5   4.5\n",
       "mean     2.0   5.0\n",
       "50%      2.0   5.0\n",
       "75%      2.5   5.5\n",
       "count    3.0   3.0\n",
       "max      3.0   6.0"
      ]
     },
     "metadata": {},
     "output_type": "display_data"
    },
    {
     "data": {
      "text/html": [
       "<div>\n",
       "<style scoped>\n",
       "    .dataframe tbody tr th:only-of-type {\n",
       "        vertical-align: middle;\n",
       "    }\n",
       "\n",
       "    .dataframe tbody tr th {\n",
       "        vertical-align: top;\n",
       "    }\n",
       "\n",
       "    .dataframe thead th {\n",
       "        text-align: right;\n",
       "    }\n",
       "</style>\n",
       "<table border=\"1\" class=\"dataframe\">\n",
       "  <thead>\n",
       "    <tr style=\"text-align: right;\">\n",
       "      <th></th>\n",
       "      <th>scoop</th>\n",
       "      <th>GAHH</th>\n",
       "    </tr>\n",
       "  </thead>\n",
       "  <tbody>\n",
       "    <tr>\n",
       "      <th>std</th>\n",
       "      <td>1.0</td>\n",
       "      <td>1.0</td>\n",
       "    </tr>\n",
       "    <tr>\n",
       "      <th>25%</th>\n",
       "      <td>1.5</td>\n",
       "      <td>4.5</td>\n",
       "    </tr>\n",
       "    <tr>\n",
       "      <th>mean</th>\n",
       "      <td>2.0</td>\n",
       "      <td>5.0</td>\n",
       "    </tr>\n",
       "    <tr>\n",
       "      <th>75%</th>\n",
       "      <td>2.5</td>\n",
       "      <td>5.5</td>\n",
       "    </tr>\n",
       "    <tr>\n",
       "      <th>count</th>\n",
       "      <td>3.0</td>\n",
       "      <td>3.0</td>\n",
       "    </tr>\n",
       "  </tbody>\n",
       "</table>\n",
       "</div>"
      ],
      "text/plain": [
       "       scoop  GAHH\n",
       "std      1.0   1.0\n",
       "25%      1.5   4.5\n",
       "mean     2.0   5.0\n",
       "75%      2.5   5.5\n",
       "count    3.0   3.0"
      ]
     },
     "metadata": {},
     "output_type": "display_data"
    }
   ],
   "source": [
    "#You can sort by index\n",
    "ordered_df = df.sort_index(ascending = False)\n",
    "print('Look at the indexes, they are sorted strings in reverse alphabetical! :')\n",
    "display(ordered_df)\n",
    "\n",
    "#You can sort numerically by column, with multiple columns (and a hierarchy of them)\n",
    "ordered_desc = df_describe.sort_values(by = ['scoop', 'GAHH']) #set ignore_index = True, to keep the same indexing\n",
    "display(ordered_desc)\n",
    "\n",
    "#You can also drop DUPLICATE values!\n",
    "display(ordered_desc.drop_duplicates(subset = 'scoop', keep = 'first', inplace = False, ))"
   ]
  },
  {
   "cell_type": "markdown",
   "id": "77616f29",
   "metadata": {},
   "source": [
    "### Matrix manipulation and Multiplication in Pandas\n",
    "\n",
    "** In Progress **"
   ]
  },
  {
   "cell_type": "code",
   "execution_count": 27,
   "id": "6efa802b",
   "metadata": {},
   "outputs": [
    {
     "data": {
      "text/html": [
       "<div>\n",
       "<style scoped>\n",
       "    .dataframe tbody tr th:only-of-type {\n",
       "        vertical-align: middle;\n",
       "    }\n",
       "\n",
       "    .dataframe tbody tr th {\n",
       "        vertical-align: top;\n",
       "    }\n",
       "\n",
       "    .dataframe thead th {\n",
       "        text-align: right;\n",
       "    }\n",
       "</style>\n",
       "<table border=\"1\" class=\"dataframe\">\n",
       "  <thead>\n",
       "    <tr style=\"text-align: right;\">\n",
       "      <th></th>\n",
       "      <th>a</th>\n",
       "      <th>b</th>\n",
       "      <th>c</th>\n",
       "    </tr>\n",
       "  </thead>\n",
       "  <tbody>\n",
       "    <tr>\n",
       "      <th>scoop</th>\n",
       "      <td>1.0</td>\n",
       "      <td>2.0</td>\n",
       "      <td>3.0</td>\n",
       "    </tr>\n",
       "    <tr>\n",
       "      <th>GAHH</th>\n",
       "      <td>4.0</td>\n",
       "      <td>5.0</td>\n",
       "      <td>6.0</td>\n",
       "    </tr>\n",
       "    <tr>\n",
       "      <th>doop</th>\n",
       "      <td>7.0</td>\n",
       "      <td>8.0</td>\n",
       "      <td>NaN</td>\n",
       "    </tr>\n",
       "  </tbody>\n",
       "</table>\n",
       "</div>"
      ],
      "text/plain": [
       "         a    b    c\n",
       "scoop  1.0  2.0  3.0\n",
       "GAHH   4.0  5.0  6.0\n",
       "doop   7.0  8.0  NaN"
      ]
     },
     "execution_count": 27,
     "metadata": {},
     "output_type": "execute_result"
    }
   ],
   "source": [
    "#Getting a transpose of a dataframe. This will switch the columns and the indices!:\n",
    "\n",
    "df2 = df.T\n",
    "df2"
   ]
  },
  {
   "cell_type": "markdown",
   "id": "fc32adfc",
   "metadata": {},
   "source": [
    "### You can pass a boolean Series into a Series, to return a new Series of only the true values\n",
    "--> This lets us filter out null results!\n",
    "\n",
    "This is essentially the same thing as numpy arrays; the you are passing a list ('Series') of booleans (True/False statements)"
   ]
  },
  {
   "cell_type": "code",
   "execution_count": 28,
   "id": "1b4c81f8",
   "metadata": {},
   "outputs": [
    {
     "name": "stdout",
     "output_type": "stream",
     "text": [
      "a     True\n",
      "b    False\n",
      "c    False\n",
      "Name: scoop, dtype: bool\n"
     ]
    }
   ],
   "source": [
    "#You can use booleans to generate at Series of True/False evaluations\n",
    "\n",
    "print(df.scoop==1) # conditional evaluating where a particular value for all values for the label ('scoop')"
   ]
  },
  {
   "cell_type": "code",
   "execution_count": 29,
   "id": "1b563d3c",
   "metadata": {},
   "outputs": [
    {
     "name": "stdout",
     "output_type": "stream",
     "text": [
      "   scoop  GAHH  doop\n",
      "a      1     4   7.0\n",
      "b      2     4   8.0\n",
      "<class 'pandas.core.frame.DataFrame'>\n",
      "old df: \n",
      "   scoop  GAHH  doop\n",
      "a      1     4   7.0\n",
      "b      2     4   8.0\n",
      "c      3     6   NaN\n"
     ]
    }
   ],
   "source": [
    "#You can use conditionals to return a new df that just meets the boolean\n",
    "\n",
    "\n",
    "#The [] operator is overloaded (multiple uses) with another function in pandas\n",
    "df.iloc[1,1] = 4\n",
    "df_cond = df[df.GAHH == 4] #Have to use the 'DOT' notation for the label here\n",
    "print(df_cond)\n",
    "print(type(df_cond))\n",
    "\n",
    "print('old df: ')\n",
    "print(df)"
   ]
  },
  {
   "cell_type": "code",
   "execution_count": 30,
   "id": "974a7541",
   "metadata": {},
   "outputs": [
    {
     "name": "stdout",
     "output_type": "stream",
     "text": [
      "1\n",
      "<class 'numpy.int64'>\n"
     ]
    }
   ],
   "source": [
    "#You can also then immediatly select a value from that df in the same line of code:\n",
    "\n",
    "df_cond = df[df.GAHH == 4]['scoop']['a'] \n",
    "print(df_cond)\n",
    "print(type(df_cond))"
   ]
  },
  {
   "cell_type": "code",
   "execution_count": 31,
   "id": "91b9bc4e",
   "metadata": {},
   "outputs": [
    {
     "name": "stdout",
     "output_type": "stream",
     "text": [
      "a     True\n",
      "b     True\n",
      "c    False\n",
      "Name: doop, dtype: bool\n",
      "------------------------------\n",
      "<class 'pandas.core.series.Series'>\n"
     ]
    },
    {
     "data": {
      "text/plain": [
       "a    7.0\n",
       "b    8.0\n",
       "Name: doop, dtype: float64"
      ]
     },
     "execution_count": 31,
     "metadata": {},
     "output_type": "execute_result"
    }
   ],
   "source": [
    "df\n",
    "# df_test = df\n",
    "df_test = df['doop']\n",
    "df_test2 = ~np.isnan(df_test)\n",
    "print(df_test2)\n",
    "print('----------'*3)\n",
    "print(type(df_test2))\n",
    "\n",
    "df_test[df_test2] "
   ]
  },
  {
   "cell_type": "markdown",
   "id": "5fb87874",
   "metadata": {},
   "source": [
    "### Applying conditionals to dataframe columns\n",
    "\n",
    "** In Progress **\n",
    "\n",
    "reference:\n",
    "https://datatofish.com/if-condition-in-pandas-dataframe/"
   ]
  },
  {
   "cell_type": "code",
   "execution_count": 32,
   "id": "7024a1ed",
   "metadata": {},
   "outputs": [
    {
     "data": {
      "text/html": [
       "<div>\n",
       "<style scoped>\n",
       "    .dataframe tbody tr th:only-of-type {\n",
       "        vertical-align: middle;\n",
       "    }\n",
       "\n",
       "    .dataframe tbody tr th {\n",
       "        vertical-align: top;\n",
       "    }\n",
       "\n",
       "    .dataframe thead th {\n",
       "        text-align: right;\n",
       "    }\n",
       "</style>\n",
       "<table border=\"1\" class=\"dataframe\">\n",
       "  <thead>\n",
       "    <tr style=\"text-align: right;\">\n",
       "      <th></th>\n",
       "      <th>scoop</th>\n",
       "      <th>GAHH</th>\n",
       "      <th>doop</th>\n",
       "      <th>boop</th>\n",
       "    </tr>\n",
       "  </thead>\n",
       "  <tbody>\n",
       "    <tr>\n",
       "      <th>a</th>\n",
       "      <td>1</td>\n",
       "      <td>4</td>\n",
       "      <td>7.0</td>\n",
       "      <td>7</td>\n",
       "    </tr>\n",
       "    <tr>\n",
       "      <th>b</th>\n",
       "      <td>2</td>\n",
       "      <td>4</td>\n",
       "      <td>8.0</td>\n",
       "      <td>8</td>\n",
       "    </tr>\n",
       "    <tr>\n",
       "      <th>c</th>\n",
       "      <td>3</td>\n",
       "      <td>6</td>\n",
       "      <td>NaN</td>\n",
       "      <td>9</td>\n",
       "    </tr>\n",
       "  </tbody>\n",
       "</table>\n",
       "</div>"
      ],
      "text/plain": [
       "   scoop  GAHH  doop  boop\n",
       "a      1     4   7.0     7\n",
       "b      2     4   8.0     8\n",
       "c      3     6   NaN     9"
      ]
     },
     "metadata": {},
     "output_type": "display_data"
    }
   ],
   "source": [
    "df['boop'] = [7,8,9]\n",
    "display(df)"
   ]
  },
  {
   "cell_type": "code",
   "execution_count": 33,
   "id": "c44b4f8b",
   "metadata": {},
   "outputs": [],
   "source": [
    "## Using .loc and \n",
    "\n",
    "## Numpy 'where'\n",
    "\n",
    "## 'Lamda' statements"
   ]
  },
  {
   "cell_type": "markdown",
   "id": "8250e30c",
   "metadata": {},
   "source": [
    "# Plotting and Vizualization"
   ]
  },
  {
   "cell_type": "markdown",
   "id": "3f11b99b",
   "metadata": {},
   "source": [
    "### With Dataframes"
   ]
  },
  {
   "cell_type": "markdown",
   "id": "d6f1393c",
   "metadata": {},
   "source": [
    "Reference:\n",
    "\n",
    "https://pandas.pydata.org/docs/user_guide/visualization.html#visualization"
   ]
  },
  {
   "cell_type": "code",
   "execution_count": 34,
   "id": "777bbec4",
   "metadata": {},
   "outputs": [
    {
     "data": {
      "text/plain": [
       "<matplotlib.legend.Legend at 0x7fd8c467c9a0>"
      ]
     },
     "execution_count": 34,
     "metadata": {},
     "output_type": "execute_result"
    },
    {
     "data": {
      "text/plain": [
       "<Figure size 432x288 with 0 Axes>"
      ]
     },
     "metadata": {},
     "output_type": "display_data"
    },
    {
     "data": {
      "image/png": "[encoded data removed]",
      "text/plain": [
       "<Figure size 432x288 with 1 Axes>"
      ]
     },
     "metadata": {
      "needs_background": "light"
     },
     "output_type": "display_data"
    }
   ],
   "source": [
    "df = pd.DataFrame(np.random.randn(1000, 4), columns=[\"A\", \"B\", \"C\", \"D\"])\n",
    "df = df.cumsum()\n",
    "plt.figure()\n",
    "\n",
    "#If we plot a dataframe, we will automatically plot the values along each column, with \n",
    "df.plot() \n",
    "plt.legend(loc = 'best')"
   ]
  },
  {
   "cell_type": "code",
   "execution_count": null,
   "id": "19b7002a",
   "metadata": {},
   "outputs": [],
   "source": []
  }
 ],
 "metadata": {
  "kernelspec": {
   "display_name": "Python 3 (ipykernel)",
   "language": "python",
   "name": "python3"
  },
  "language_info": {
   "codemirror_mode": {
    "name": "ipython",
    "version": 3
   },
   "file_extension": ".py",
   "mimetype": "text/x-python",
   "name": "python",
   "nbconvert_exporter": "python",
   "pygments_lexer": "ipython3",
   "version": "3.8.8"
  }
 },
 "nbformat": 4,
 "nbformat_minor": 5
}
